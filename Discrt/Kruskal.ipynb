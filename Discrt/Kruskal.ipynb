{
 "cells": [
  {
   "cell_type": "code",
   "execution_count": 79,
   "metadata": {
    "dotnet_interactive": {
     "language": "csharp"
    },
    "polyglot_notebook": {
     "kernelName": "csharp"
    }
   },
   "outputs": [],
   "source": [
    "class gaga {\n",
    "    public static int[,] Graf(int n) {\n",
    "        int[,] mas = new int[n, n]; \n",
    "        Random rnd = new Random();  \n",
    "        for (int i = 0; i < n; i++) \n",
    "        { \n",
    "            for (int j = 0; j < n; j++) \n",
    "            { \n",
    "                int kaka = rnd.Next(0,9); \n",
    "                mas[i, j] = 0; \n",
    "                mas[j, i] = kaka; \n",
    "                if(i == j){ \n",
    "                    mas[i, j] = 0; \n",
    "                } \n",
    "            }        \n",
    "        }\n",
    "        return mas;\n",
    "    }\n",
    "    public static (int,List<int[]>) Ways_graf(int[,] mas, int n){\n",
    "        int count = 0;\n",
    "        for(int i = 0; i<n;i++){\n",
    "            for(int j = 0; j<n; j++){\n",
    "                if(mas[i,j] !=0){\n",
    "                    count++;\n",
    "                }\n",
    "            }\n",
    "        }\n",
    "        var way = new List<int[]>();\n",
    "        var lin_way = new int[3];\n",
    "        count = 0;\n",
    "        for(int i = 0; i<n;i++){\n",
    "            for(int j = 0; j<n; j++){\n",
    "                if(mas[i,j] !=0){\n",
    "                    way.Add(new[] {mas[i,j], i, j});\n",
    "                    count++;\n",
    "                }\n",
    "            }\n",
    "        }\n",
    "        var result = (co: count, wa: way);\n",
    "        return result;\n",
    "    }\n",
    "\n",
    "    public static List<int[]> Sort_graf(List<int[]> ways){\n",
    "       for(int i = 0; i<ways.Count; i++){\n",
    "        for(int j = 0; j<ways.Count - 1; j++){\n",
    "            var w1 = ways[j];\n",
    "            var w2 = ways[j+1];\n",
    "            if(w1[0] > w2[0]){\n",
    "                ways.Reverse(j,2);\n",
    "            }\n",
    "        }\n",
    "       }\n",
    "       var result = ways;\n",
    "       return result; \n",
    "    }\n",
    "}\n",
    "\n",
    "//https://stackoverflow.com/questions/3435089/how-to-check-if-object-already-exists-in-a-list"
   ]
  },
  {
   "cell_type": "code",
   "execution_count": null,
   "metadata": {
    "dotnet_interactive": {
     "language": "csharp"
    },
    "polyglot_notebook": {
     "kernelName": "csharp"
    }
   },
   "outputs": [],
   "source": []
  },
  {
   "cell_type": "code",
   "execution_count": 82,
   "metadata": {
    "dotnet_interactive": {
     "language": "csharp"
    },
    "polyglot_notebook": {
     "kernelName": "csharp"
    }
   },
   "outputs": [
    {
     "name": "stdout",
     "output_type": "stream",
     "text": [
      "0 0 8 2 1 \n",
      "0 0 4 2 6 \n",
      "0 0 0 1 6 \n",
      "0 0 0 0 4 \n",
      "0 0 0 0 0 \n",
      "\n",
      "1,0,4\n",
      "1,2,3\n",
      "2,0,3\n",
      "2,1,3\n",
      "4,1,2\n",
      "4,3,4\n",
      "6,1,4\n",
      "6,2,4\n",
      "8,0,2\n",
      "1\n",
      "2\n",
      "4\n",
      "6\n",
      "10\n",
      "10\n",
      "16\n",
      "16\n",
      "24\n"
     ]
    }
   ],
   "source": [
    "int n = 5;\t\n",
    "int sum =0;\n",
    "var stolb = new List<int>();\n",
    "var graf = gaga.Graf(n);\n",
    "for(int i = 0; i<n;i++){\n",
    "  for(int j = 0; j<n; j++){\n",
    "    Console.Write(graf[i,j]+ \" \");\n",
    "  }\n",
    "  Console.WriteLine();\n",
    "}\n",
    "Console.WriteLine();\n",
    "var way = gaga.Ways_graf(graf,n);\n",
    "var count = way.Item1;\n",
    "var ways = way.Item2;\n",
    "ways = gaga.Sort_graf(ways);\n",
    "foreach (var res in ways)\n",
    "{\n",
    "Console.WriteLine(string.Join(\",\", res));\n",
    "}\n",
    "foreach (var res in ways)\n",
    "{\n",
    "  if(!stolb.Contains(res[2]) || !stolb.Contains(res[1])){\n",
    "    sum+=res[0];\n",
    "    stolb.Add(res[2]);\n",
    "  }\n",
    "  Console.WriteLine(string.Join(\",\", sum));\n",
    "}\n",
    "\n"
   ]
  }
 ],
 "metadata": {
  "kernelspec": {
   "display_name": ".NET (C#)",
   "language": "C#",
   "name": ".net-csharp"
  },
  "language_info": {
   "name": "polyglot-notebook"
  },
  "polyglot_notebook": {
   "kernelInfo": {
    "defaultKernelName": "csharp",
    "items": [
     {
      "aliases": [],
      "languageName": "csharp",
      "name": "csharp"
     }
    ]
   }
  }
 },
 "nbformat": 4,
 "nbformat_minor": 2
}
