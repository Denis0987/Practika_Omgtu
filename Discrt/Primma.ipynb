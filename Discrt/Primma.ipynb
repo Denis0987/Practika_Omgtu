{
 "cells": [
  {
   "cell_type": "code",
   "execution_count": 59,
   "metadata": {
    "dotnet_interactive": {
     "language": "csharp"
    },
    "polyglot_notebook": {
     "kernelName": "csharp"
    }
   },
   "outputs": [],
   "source": [
    "class gaga {\n",
    "    public static int[,] Graf(int n) {\n",
    "        int[,] mas = new int[n, n]; \n",
    "        Random rnd = new Random();  \n",
    "        for (int i = 0; i < n; i++) \n",
    "        { \n",
    "            for (int j = 0; j < n; j++) \n",
    "            { \n",
    "                int kaka = rnd.Next(0,9); \n",
    "                mas[i, j] = kaka; \n",
    "                mas[j, i] = kaka; \n",
    "                if(i == j){ \n",
    "                    mas[i, j] = 0; \n",
    "                } \n",
    "            }        \n",
    "        }\n",
    "        return mas;\n",
    "    }\n",
    "    public static int[,] delstrok(int s1, int s2, int[,] graf,int n){\n",
    "        for (int i = 0; i < n; i++){ \n",
    "            for (int j = 0; j < n; j++){ \n",
    "                    if(i == s1 || i == s2){\n",
    "                        graf[i,j] = 0;\n",
    "                    }\n",
    "            } \n",
    "        }  \n",
    "        return graf;        \n",
    "    }\n",
    "\n",
    "}"
   ]
  },
  {
   "cell_type": "code",
   "execution_count": 111,
   "metadata": {
    "dotnet_interactive": {
     "language": "csharp"
    },
    "polyglot_notebook": {
     "kernelName": "csharp"
    }
   },
   "outputs": [
    {
     "name": "stdout",
     "output_type": "stream",
     "text": [
      "0 4 5 3 2 \n",
      "4 0 7 4 0 \n",
      "5 7 0 8 5 \n",
      "3 4 8 0 7 \n",
      "2 0 5 7 0 \n",
      "\n",
      "0 0 0 0 0 \n",
      "4 0 7 4 0 \n",
      "5 7 0 8 5 \n",
      "3 4 8 0 7 \n",
      "0 0 0 0 0 \n",
      "\n",
      "0 0 0 0 0 \n",
      "4 0 7 4 0 \n",
      "5 7 0 8 5 \n",
      "3 4 8 0 7 \n",
      "0 0 0 0 0 \n",
      "\n",
      "0 0 0 0 0 \n",
      "4 0 7 4 0 \n",
      "5 7 0 8 5 \n",
      "0 0 0 0 0 \n",
      "0 0 0 0 0 \n",
      "\n",
      "0 0 0 0 0 \n",
      "0 0 0 0 0 \n",
      "5 7 0 8 5 \n",
      "0 0 0 0 0 \n",
      "0 0 0 0 0 \n",
      "14\n"
     ]
    }
   ],
   "source": [
    "int n = 5;\t\n",
    "var graf = gaga.Graf(n);\n",
    "for(int i = 0; i<n;i++){\n",
    "  for(int j = 0; j<n; j++){\n",
    "    Console.Write(graf[i,j]+ \" \");\n",
    "  }\n",
    "  Console.WriteLine();\n",
    "}\n",
    "  Console.WriteLine();\n",
    "List<int> index_stolb = new List<int>();\n",
    "List<int> elem = new List<int>();\n",
    "for(int i = 0; i<n; i++){\n",
    "  elem.Add(0);\n",
    "  index_stolb.Add(0);\n",
    "}\n",
    "int minel = 999;\n",
    "for(int i =0; i<n; i++){\n",
    "  for(int j =0; j<n; j++){\n",
    "      if(graf[i,j]<minel && graf[i,j]!=0){\n",
    "        minel = graf[i,j];\n",
    "        elem[0] = minel;\n",
    "        index_stolb[0] = i;\n",
    "        index_stolb[1] = j;\n",
    "      }\n",
    "  }\n",
    "}\n",
    "graf = gaga.delstrok(index_stolb[0], index_stolb[1], graf,n);\n",
    "  for(int a = 0; a<n;a++){\n",
    "    for(int b = 0; b<n; b++){\n",
    "      Console.Write(graf[a,b]+ \" \");\n",
    "    }\n",
    "    Console.WriteLine();\n",
    "  }\n",
    "int tempindex =0;\n",
    "for(int k = 0; k<n-2; k++){\n",
    "  Console.WriteLine();\n",
    "  for(int i =0; i<n; i++){\n",
    "    for(int j =0; j<n; j++){\n",
    "        if(graf[i,j]<minel && graf[i,j]!=0){\n",
    "          minel = graf[i,j];\n",
    "          elem[tempindex] = minel;\n",
    "          index_stolb[tempindex + 1] = i;\n",
    "          index_stolb[tempindex + 2] = j;\n",
    "        }\n",
    "    }\n",
    "  }\n",
    "  graf = gaga.delstrok(index_stolb[tempindex+1], index_stolb[tempindex+2], graf,n);\n",
    "  for(int a = 0; a<n;a++){\n",
    "    for(int b = 0; b<n; b++){\n",
    "      Console.Write(graf[a,b]+ \" \");\n",
    "    }\n",
    "    Console.WriteLine();\n",
    "  }\n",
    "  tempindex++;\n",
    "  minel = 999;\n",
    "}\n",
    "for(int i =0; i<n; i++){\n",
    "  for(int j =0; j<n; j++){\n",
    "      if(graf[i,j]<minel && graf[i,j]!=0){\n",
    "        minel = graf[i,j];\n",
    "        elem[4] = minel;\n",
    "      }\n",
    "  }\n",
    "}\n",
    "int sum = 0;\n",
    "for(int i = 0; i<n; i++){\n",
    "  sum+=elem[i];\n",
    "}\n",
    "Console.WriteLine(sum)\n"
   ]
  }
 ],
 "metadata": {
  "kernelspec": {
   "display_name": ".NET (C#)",
   "language": "C#",
   "name": ".net-csharp"
  },
  "language_info": {
   "name": "polyglot-notebook"
  },
  "polyglot_notebook": {
   "kernelInfo": {
    "defaultKernelName": "csharp",
    "items": [
     {
      "aliases": [],
      "languageName": "csharp",
      "name": "csharp"
     }
    ]
   }
  }
 },
 "nbformat": 4,
 "nbformat_minor": 2
}
